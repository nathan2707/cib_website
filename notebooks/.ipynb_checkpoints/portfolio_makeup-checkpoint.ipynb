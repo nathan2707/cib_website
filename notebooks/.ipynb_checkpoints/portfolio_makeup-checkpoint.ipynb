{
 "cells": [
  {
   "cell_type": "code",
   "execution_count": 18,
   "metadata": {
    "collapsed": false
   },
   "outputs": [
    {
     "ename": "ImportError",
     "evalue": "No module named 'Markowitz'",
     "output_type": "error",
     "traceback": [
      "\u001b[0;31m---------------------------------------------------------------------------\u001b[0m",
      "\u001b[0;31mImportError\u001b[0m                               Traceback (most recent call last)",
      "\u001b[0;32m<ipython-input-18-4fea2cd4778b>\u001b[0m in \u001b[0;36m<module>\u001b[0;34m()\u001b[0m\n\u001b[1;32m      2\u001b[0m \u001b[0;32mimport\u001b[0m \u001b[0mpandas\u001b[0m \u001b[0;32mas\u001b[0m \u001b[0mpd\u001b[0m\u001b[0;34m\u001b[0m\u001b[0m\n\u001b[1;32m      3\u001b[0m \u001b[0;32mimport\u001b[0m \u001b[0mdatetime\u001b[0m\u001b[0;34m\u001b[0m\u001b[0m\n\u001b[0;32m----> 4\u001b[0;31m \u001b[0;32mimport\u001b[0m \u001b[0mMarkowitz\u001b[0m\u001b[0;34m\u001b[0m\u001b[0m\n\u001b[0m\u001b[1;32m      5\u001b[0m \u001b[0;32mimport\u001b[0m \u001b[0mnumpy\u001b[0m \u001b[0;32mas\u001b[0m \u001b[0mnp\u001b[0m\u001b[0;34m\u001b[0m\u001b[0m\n\u001b[1;32m      6\u001b[0m \u001b[0;32mimport\u001b[0m \u001b[0mmath\u001b[0m\u001b[0;34m\u001b[0m\u001b[0m\n",
      "\u001b[0;31mImportError\u001b[0m: No module named 'Markowitz'"
     ]
    }
   ],
   "source": [
    "import pandas.io.data as web\n",
    "import pandas as pd\n",
    "import datetime\n",
    "import Markowitz\n",
    "import numpy as np\n",
    "import math"
   ]
  },
  {
   "cell_type": "code",
   "execution_count": 2,
   "metadata": {
    "collapsed": true
   },
   "outputs": [],
   "source": [
    "class Position:\n",
    "    def __init__(self,symbol,returns,direction,in_price,weight):\n",
    "        #format for dates: \"YYYY-MM-dd\"\n",
    "        self.symbol = symbol\n",
    "        self.returns = returns\n",
    "        self.direction = direction\n",
    "        self.in_price = in_price\n",
    "        self.weight = weight\n",
    "        if direction == \"long\":\n",
    "            self.returns *= 100\n",
    "        else:\n",
    "            self.returns *= -100"
   ]
  },
  {
   "cell_type": "code",
   "execution_count": 35,
   "metadata": {
    "collapsed": true
   },
   "outputs": [],
   "source": [
    "class Portfolio:\n",
    "    def __init__(self,assets,start_date,all_dates):\n",
    "        self.start_date = start_date\n",
    "        self.positions = assets\n",
    "        self.symbols = [asset.symbol for asset in self.positions]\n",
    "        self.returns_grid = np.array([asset.returns for asset in self.positions])\n",
    "        self.weights = np.array([asset.weight for asset in self.positions])\n",
    "        #historical\n",
    "        self.historical_dates = all_dates\n",
    "        self.historical_returns = np.dot(self.weights.transpose(),self.returns_grid)\n",
    "        self.covariance_matrix = np.cov(self.returns_grid)\n",
    "        self.net_variance = np.dot(self.weights.T,np.dot(self.covariance_matrix,self.weights))\n",
    "        self.net_expectation = np.mean(self.historical_returns)\n",
    "        #actual\n",
    "        self.daily_values = calculate_profits(historical_returns,start_date,all_dates)\n",
    "    \n",
    "    def calculate_profits(assets,historical_returns,start_date,all_dates):\n",
    "        #calculate first return taking into account price at which PM entered position\n",
    "        first_return = 0\n",
    "        for asset in assets:\n",
    "            first_price = web.DataReader(asset.symbol,'yahoo',start_date)['Close'][0]\n",
    "            r = 100*(first_price - asset.in_price)/asset.in_price\n",
    "            if asset.direction != 'long':\n",
    "                r = -r\n",
    "            first_return = first_return + r\n",
    "        #find index of first date\n",
    "        for i in range(len(all_dates)-1,0,-1):\n",
    "            if datetime.date(start_date) == datetime.date(all_dates[i]):\n",
    "                return np.insert(historical_returns[i:len(returns_grid)],0,first_return)\n",
    "                \n",
    "    def optimal_portfolio(self):\n",
    "        #looking back one year only. subject to change\n",
    "        start_index = len(self.returns)-253\n",
    "        end_index = len(self.returns)-1\n",
    "        return_grid = self.returns_grid[:,start_index:end_index]\n",
    "        weights, poly = Markowitz.optimal_portfolio_quad(return_grid,frontier=True)\n",
    "        return {'weights':weights,'curve':poly}\n",
    "    \n",
    "    def compile_portfolio(self):\n",
    "        in_prices = []\n",
    "        directions = []\n",
    "        for i in range(len(self.positions)):\n",
    "            in_prices.append(self.positions[i].in_price)\n",
    "            directions.append(self.positions[i].direction)\n",
    "        compilation = Portfolio_Compiled(self.symbols,self.weights,self.returns,self.net_variance,self.net_expectation,self.historical_dates)\n",
    "        return compilation\n",
    "\n",
    "class Portfolio_Compiled:\n",
    "    def __init__(self,tickers,start_date,initial_weights,in_prices,directions,returns,net_variance,net_expectation,all_dates):\n",
    "        self.tickers = tickers\n",
    "        self.start_date = start_date\n",
    "        self.in_prices = in_prices\n",
    "        self.directions = directions\n",
    "        self.initial_weights = initial_weights\n",
    "        self.net_returns = returns\n",
    "        self.net_variance = net_variance\n",
    "        self.net_expectation = net_expectation\n",
    "        self.historical_dates = all_dates\n",
    "    \n",
    "    def uncompile(self,df):\n",
    "        positions = []\n",
    "        for i in range(self.tickers):\n",
    "            positions.append(Position(self.tickers[i],df[self.tickers[i]],self.directions[i],self.in_prices[i],self.initial_weights[i]))\n",
    "        portfolio = Portfolio(positions,self.start_date,self.historical_dates)\n",
    "        return portfolio      "
   ]
  },
  {
   "cell_type": "markdown",
   "metadata": {},
   "source": [
    "### Example : use of the data structure and efficiency frontier"
   ]
  },
  {
   "cell_type": "code",
   "execution_count": 37,
   "metadata": {
    "collapsed": false
   },
   "outputs": [],
   "source": [
    "import matplotlib.pyplot as plt\n",
    "%matplotlib inline\n",
    "tickers = ['YHOO','STK','GOOGL','AMZN','EBAY']\n",
    "weights = [0.2,0.1,0.4,0.15,0.15]\n",
    "#instantiate positions\n",
    "positions = []\n",
    "start_date = datetime.datetime(2010, 1, 1)\n",
    "for i in range(len(tickers)):\n",
    "    positions.append(Position(tickers[i],\"long\",30,start_date,weights[i],\"NASDAQ\",\"stock\"))\n",
    "#instantiate portfolio\n",
    "portfolio = Portfolio(positions)\n",
    "\n",
    "struct = portfolio.optimal_portfolio()\n",
    "x1 = struct['curve'][2]\n",
    "x2 = struct['curve'][1]\n",
    "x3 = struct['curve'][0]\n",
    "returns = np.linspace(-5,5,1000)\n",
    "risks = [x1+x2*returns[i]+x3*returns[i]*returns[i] for i in range(len(returns))]\n",
    "\n",
    "plt.plot(risks,returns)"
   ]
  },
  {
   "cell_type": "code",
   "execution_count": null,
   "metadata": {
    "collapsed": true
   },
   "outputs": [],
   "source": []
  }
 ],
 "metadata": {
  "kernelspec": {
   "display_name": "Python 3",
   "language": "python",
   "name": "python3"
  },
  "language_info": {
   "codemirror_mode": {
    "name": "ipython",
    "version": 3
   },
   "file_extension": ".py",
   "mimetype": "text/x-python",
   "name": "python",
   "nbconvert_exporter": "python",
   "pygments_lexer": "ipython3",
   "version": "3.4.3"
  }
 },
 "nbformat": 4,
 "nbformat_minor": 0
}
