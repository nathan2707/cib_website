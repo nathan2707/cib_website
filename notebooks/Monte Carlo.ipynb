{
 "cells": [
  {
   "cell_type": "code",
   "execution_count": 4,
   "metadata": {
    "collapsed": false
   },
   "outputs": [],
   "source": [
    "import matplotlib.pyplot as plt\n",
    "import Portfolio\n",
    "from dateutil import rrule \n",
    "import datetime\n",
    "from datetime import timedelta as td\n",
    "import time\n",
    "import math\n",
    "import numpy as np\n",
    "import pandas as pd"
   ]
  },
  {
   "cell_type": "code",
   "execution_count": 6,
   "metadata": {
    "collapsed": false
   },
   "outputs": [],
   "source": [
    "tickers = ['YHOO','STK','GOOGL','AMZN','EBAY']\n",
    "weights = [0.2,0.1,0.4,0.15,0.15]\n",
    "#instantiate positions\n",
    "positions = []\n",
    "start_date = datetime.datetime(2010, 1, 1)\n",
    "for i in range(len(tickers)):\n",
    "    positions.append(Portfolio.Position(tickers[i],\"long\",30,start_date,weights[i],\"NASDAQ\",\"stock\"))\n",
    "#instantiate portfolio\n",
    "portfolio = Portfolio.Portfolio(positions)\n",
    "mu = portfolio.net_expectation\n",
    "sigma = math.sqrt(portfolio.net_variance)"
   ]
  },
  {
   "cell_type": "code",
   "execution_count": 7,
   "metadata": {
    "collapsed": false
   },
   "outputs": [
    {
     "data": {
      "text/plain": [
       "0.055875472973644209"
      ]
     },
     "execution_count": 7,
     "metadata": {},
     "output_type": "execute_result"
    }
   ],
   "source": [
    "mu"
   ]
  },
  {
   "cell_type": "code",
   "execution_count": 8,
   "metadata": {
    "collapsed": false
   },
   "outputs": [
    {
     "data": {
      "text/plain": [
       "1.4162618350646003"
      ]
     },
     "execution_count": 8,
     "metadata": {},
     "output_type": "execute_result"
    }
   ],
   "source": [
    "sigma"
   ]
  },
  {
   "cell_type": "code",
   "execution_count": 121,
   "metadata": {
    "collapsed": false
   },
   "outputs": [
    {
     "data": {
      "text/html": [
       "<div>\n",
       "<table border=\"1\" class=\"dataframe\">\n",
       "  <thead>\n",
       "    <tr style=\"text-align: right;\">\n",
       "      <th></th>\n",
       "      <th>Stats</th>\n",
       "    </tr>\n",
       "  </thead>\n",
       "  <tbody>\n",
       "    <tr>\n",
       "      <th>count</th>\n",
       "      <td>600.000000</td>\n",
       "    </tr>\n",
       "    <tr>\n",
       "      <th>mean</th>\n",
       "      <td>1.141609</td>\n",
       "    </tr>\n",
       "    <tr>\n",
       "      <th>std</th>\n",
       "      <td>0.255400</td>\n",
       "    </tr>\n",
       "    <tr>\n",
       "      <th>min</th>\n",
       "      <td>0.586072</td>\n",
       "    </tr>\n",
       "    <tr>\n",
       "      <th>25%</th>\n",
       "      <td>0.965759</td>\n",
       "    </tr>\n",
       "    <tr>\n",
       "      <th>50%</th>\n",
       "      <td>1.108551</td>\n",
       "    </tr>\n",
       "    <tr>\n",
       "      <th>75%</th>\n",
       "      <td>1.293347</td>\n",
       "    </tr>\n",
       "    <tr>\n",
       "      <th>max</th>\n",
       "      <td>2.137497</td>\n",
       "    </tr>\n",
       "  </tbody>\n",
       "</table>\n",
       "</div>"
      ],
      "text/plain": [
       "            Stats\n",
       "count  600.000000\n",
       "mean     1.141609\n",
       "std      0.255400\n",
       "min      0.586072\n",
       "25%      0.965759\n",
       "50%      1.108551\n",
       "75%      1.293347\n",
       "max      2.137497"
      ]
     },
     "execution_count": 121,
     "metadata": {},
     "output_type": "execute_result"
    }
   ],
   "source": [
    "n_trials = 600\n",
    "horizon = 12\n",
    "days, perf = monte_carlo_simulation(mu,sigma,n_trials,horizon)\n",
    "def MonteCarlo_statistics(perf):\n",
    "    #equity = (1+0.01r1)(1+0.01r2)...(1+0.01rn)\n",
    "    final = 1+(perf/100)\n",
    "    final = np.prod(final,axis=1)\n",
    "    \n",
    "    final = pd.DataFrame(final)\n",
    "    info = final.describe()\n",
    "    quartile1 = info[0]['25%']\n",
    "    quartile2 = info[0]['50%']\n",
    "    quartile3 = info[0]['75%']\n",
    "    index_quartile1 = final[(quartile1-0.001*quartile1<final) & (quartile1+0.001*quartile1>final)].first_valid_index()\n",
    "    index_quartile2 = final[(quartile2-0.001*quartile2<final) & (quartile2+0.001*quartile2>final)].first_valid_index()\n",
    "    index_quartile3 = final[(quartile3-0.001*quartile3<final) & (quartile3+0.001*quartile3>final)].first_valid_index()\n",
    "    \n",
    "    perf_series_quartile1 = perf[index_quartile1]\n",
    "    perf_series_quartile2 = perf[index_quartile2]\n",
    "    perf_series_quartile3 = perf[index_quartile3]\n",
    "    info.columns = ['Stats']\n",
    "    return (info,perf_series_quartile1,perf_series_quartile2,perf_series_quartile3)"
   ]
  },
  {
   "cell_type": "code",
   "execution_count": 146,
   "metadata": {
    "collapsed": false
   },
   "outputs": [],
   "source": [
    "#simply the cdf of the distribution of final performance obtained from monte carlo simulation\n",
    "def probability_of_perf(final_perf,goal,upside=True):\n",
    "    ordered_perfs = final_perf[0].sort(inplace=False)\n",
    "    if upside is True:\n",
    "        p = ordered_perfs[ordered_perfs >= goal].count()/(ordered_perfs.count()+1)\n",
    "    else:\n",
    "        p = ordered_perfs[ordered_perfs <= goal].count()/(ordered_perfs.count()+1)\n",
    "    return p"
   ]
  },
  {
   "cell_type": "code",
   "execution_count": 1,
   "metadata": {
    "collapsed": false
   },
   "outputs": [],
   "source": [
    "#horizon in months\n",
    "#about 45 seconds for 1 million trials and 4 years\n",
    "def monte_carlo_simulation(mu,sigma,n_trials,horizon):\n",
    "    start_date = datetime.date.today()\n",
    "    end_date = start_date + datetime.timedelta(horizon*365/12)\n",
    "    trading_days = list(NYSE_tradingdays(start_date,end_date))\n",
    "    n_days = len(trading_days)\n",
    "    returns = np.random.normal(mu,sigma,size=(n_trials,n_days))\n",
    "    return trading_days,returns"
   ]
  },
  {
   "cell_type": "code",
   "execution_count": 2,
   "metadata": {
    "collapsed": false
   },
   "outputs": [],
   "source": [
    "def NYSE_tradingdays(a,b):\n",
    "    rs = rrule.rruleset()\n",
    "    rs.rrule(rrule.rrule(rrule.DAILY, dtstart=a, until=b))\n",
    "    # Exclude weekends and holidays\n",
    "    rs.exrule(rrule.rrule(rrule.WEEKLY, dtstart=a, byweekday=(rrule.SA,rrule.SU)))\n",
    "    rs.exrule(NYSE_holidays(a,b))\n",
    "    return rs "
   ]
  },
  {
   "cell_type": "code",
   "execution_count": 5,
   "metadata": {
    "collapsed": false
   },
   "outputs": [],
   "source": [
    "def NYSE_holidays(a=datetime.date.today(), b=datetime.date.today()+datetime.timedelta(days=365)):\n",
    "    rs = rrule.rruleset()\n",
    "    # Include all potential holiday observances\n",
    "    rs.rrule(rrule.rrule(rrule.YEARLY, dtstart=a, until=b, bymonth=12, bymonthday=31, byweekday=rrule.FR)) # New Years Day  \n",
    "    rs.rrule(rrule.rrule(rrule.YEARLY, dtstart=a, until=b, bymonth= 1, bymonthday= 1))                     # New Years Day  \n",
    "    rs.rrule(rrule.rrule(rrule.YEARLY, dtstart=a, until=b, bymonth= 1, bymonthday= 2, byweekday=rrule.MO)) # New Years Day    \n",
    "    rs.rrule(rrule.rrule(rrule.YEARLY, dtstart=a, until=b, bymonth= 1, byweekday= rrule.MO(3)))            # Martin Luther King Day   \n",
    "    rs.rrule(rrule.rrule(rrule.YEARLY, dtstart=a, until=b, bymonth= 2, byweekday= rrule.MO(3)))            # Washington's Birthday\n",
    "    rs.rrule(rrule.rrule(rrule.YEARLY, dtstart=a, until=b, byeaster= -2))                                  # Good Friday\n",
    "    rs.rrule(rrule.rrule(rrule.YEARLY, dtstart=a, until=b, bymonth= 5, byweekday= rrule.MO(-1)))           # Memorial Day\n",
    "    rs.rrule(rrule.rrule(rrule.YEARLY, dtstart=a, until=b, bymonth= 7, bymonthday= 3, byweekday=rrule.FR)) # Independence Day\n",
    "    rs.rrule(rrule.rrule(rrule.YEARLY, dtstart=a, until=b, bymonth= 7, bymonthday= 4))                     # Independence Day\n",
    "    rs.rrule(rrule.rrule(rrule.YEARLY, dtstart=a, until=b, bymonth= 7, bymonthday= 5, byweekday=rrule.MO)) # Independence Day\n",
    "    rs.rrule(rrule.rrule(rrule.YEARLY, dtstart=a, until=b, bymonth= 9, byweekday= rrule.MO(1)))            # Labor Day\n",
    "    rs.rrule(rrule.rrule(rrule.YEARLY, dtstart=a, until=b, bymonth=11, byweekday= rrule.TH(4)))            # Thanksgiving Day\n",
    "    rs.rrule(rrule.rrule(rrule.YEARLY, dtstart=a, until=b, bymonth=12, bymonthday=24, byweekday=rrule.FR)) # Christmas  \n",
    "    rs.rrule(rrule.rrule(rrule.YEARLY, dtstart=a, until=b, bymonth=12, bymonthday=25))                     # Christmas  \n",
    "    rs.rrule(rrule.rrule(rrule.YEARLY, dtstart=a, until=b, bymonth=12, bymonthday=26, byweekday=rrule.MO)) # Christmas \n",
    "    # Exclude potential holidays that fall on weekends\n",
    "    rs.exrule(rrule.rrule(rrule.WEEKLY, dtstart=a, until=b, byweekday=(rrule.SA,rrule.SU)))\n",
    "    return rs"
   ]
  }
 ],
 "metadata": {
  "kernelspec": {
   "display_name": "Python 3",
   "language": "python",
   "name": "python3"
  },
  "language_info": {
   "codemirror_mode": {
    "name": "ipython",
    "version": 3
   },
   "file_extension": ".py",
   "mimetype": "text/x-python",
   "name": "python",
   "nbconvert_exporter": "python",
   "pygments_lexer": "ipython3",
   "version": "3.4.3"
  }
 },
 "nbformat": 4,
 "nbformat_minor": 0
}
