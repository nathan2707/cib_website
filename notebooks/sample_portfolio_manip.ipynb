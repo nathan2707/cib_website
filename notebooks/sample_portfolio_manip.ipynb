{
 "cells": [
  {
   "cell_type": "code",
   "execution_count": 1,
   "metadata": {
    "collapsed": true
   },
   "outputs": [],
   "source": [
    "import pickle\n",
    "import datetime\n",
    "import pandas.io.data as web\n",
    "import sys\n",
    "import pandas as pd\n",
    "sys.path.append('../prod/')\n",
    "from Portfolio import Portfolio, Position\n",
    "import Updates_Manager\n",
    "import os"
   ]
  },
  {
   "cell_type": "code",
   "execution_count": null,
   "metadata": {
    "collapsed": true
   },
   "outputs": [],
   "source": [
    "#initialize new portfolio from inputs of the PM\n",
    "# format is tuple: 0= list of tickers / 1= list of weights / 2= list of inital prices\n",
    "P1 = (['XOM','OIL','GLD'],[0.5,0.25,0.25],[792,128,1200])\n",
    "#transform it to a real portfolio object and save it\n",
    "p = Updates_Manager.start_manager_update_process(P1)"
   ]
  },
  {
   "cell_type": "code",
   "execution_count": null,
   "metadata": {
    "collapsed": true
   },
   "outputs": [],
   "source": [
    "#use the get methods from the Portfolio class to get any info\n",
    "#for eg: get the variance of the current portfolio\n",
    "variance = p.get_variance()"
   ]
  },
  {
   "cell_type": "code",
   "execution_count": null,
   "metadata": {
    "collapsed": true
   },
   "outputs": [],
   "source": [
    "#access all portfolios ever\n",
    "#calculate net worth of $1 invested in the fund\n",
    "values = []\n",
    "all_portfolios = Updates_Manager.pull_old_portfolios()\n",
    "last_value = 1\n",
    "for port in all_portfolios:\n",
    "    new_values = [val * last_value for val in port.daily_values]\n",
    "    last_value = new_values[-1]\n",
    "    values = values + new_values"
   ]
  }
 ],
 "metadata": {
  "kernelspec": {
   "display_name": "Python 3",
   "language": "python",
   "name": "python3"
  },
  "language_info": {
   "codemirror_mode": {
    "name": "ipython",
    "version": 3
   },
   "file_extension": ".py",
   "mimetype": "text/x-python",
   "name": "python",
   "nbconvert_exporter": "python",
   "pygments_lexer": "ipython3",
   "version": "3.4.3"
  }
 },
 "nbformat": 4,
 "nbformat_minor": 0
}
