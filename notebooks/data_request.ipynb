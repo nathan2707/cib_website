{
 "cells": [
  {
   "cell_type": "code",
   "execution_count": 1,
   "metadata": {
    "collapsed": false
   },
   "outputs": [],
   "source": [
    "from time import sleep, strftime\n",
    "from time import sleep\n",
    "from ib.ext.Contract import Contract\n",
    "from ib.opt import Connection, message\n",
    "\n",
    "class HistoricalDataCollection:\n",
    "    def __init__(self, contract, date, t, duration):\n",
    "        self.contract = contract\n",
    "        self.date = date\n",
    "        self.t = t\n",
    "        self.duration = str(duration) + ' S'\n",
    "        self.tick_id = 3\n",
    "        self.con = Connection.create(port=4002, clientId=2707)\n",
    "        self.con.register(self.process_data, message.historicalData)\n",
    "        self.con.connect()\n",
    "        sleep(1)\n",
    "        end_datetime = ('%s %s US/Eastern' % (self.date, self.t))\n",
    "        self.con.reqHistoricalData(tickerId=self.tick_id, contract=self.contract,\\\n",
    "                                   endDateTime=end_datetime,durationStr=self.duration, barSizeSetting='5 secs',\\\n",
    "                                   whatToShow='MIDPOINT', useRTH=1, formatDate=1)\n",
    "        sleep(1)\n",
    "        self.data_received = False\n",
    "\n",
    "    def close(self):\n",
    "        print(\"closing...\")\n",
    "        while not self.data_received:\n",
    "            pass\n",
    "        print(\"received\")\n",
    "        self.con.cancelHistoricalData(self.tick_id)\n",
    "        sleep(1)\n",
    "        self.con.disconnect()\n",
    "        sleep(1)\n",
    "    def disconnect(self):\n",
    "        self.con.disconnect()\n",
    "\n",
    "    def process_data(self, msg):\n",
    "        print(\"processing\")\n",
    "        print(msg)\n",
    "        if msg.open != -1:\n",
    "            print(msg.date, msg.open, msg.high, msg.low, msg.close, msg.volume, msg.count, msg.WAP, msg.hasGaps)\n",
    "        else:\n",
    "            self.data_received = True\n",
    "\n",
    "def makeOptionContract(symbol,expiry,strike,option_type):\n",
    "    newContract = Contract()\n",
    "    newContract.m_symbol = symbol\n",
    "    newContract.m_secType = \"OPT\"\n",
    "    newContract.m_exchange = \"SMART\"\n",
    "    newContract.m_currency = \"USD\"\n",
    "    newContract.m_expiry = expiry\n",
    "    newContract.m_strike = strike\n",
    "    newContract.m_right = option_type\n",
    "    return newContract\n",
    "def makeStockContract(symbol):\n",
    "    newContract = Contract()\n",
    "    newContract.m_symbol = symbol\n",
    "    newContract.m_secType = \"STK\"\n",
    "    newContract.m_exchange = \"NASDAQ\"\n",
    "    newContract.m_currency = \"USD\"\n",
    "    return newContract\n",
    "def makeCashContract(currency):\n",
    "    newContract = Contract()\n",
    "    newContract.m_symbol = \"USD\"\n",
    "    newContract.m_secType = \"CASH\"\n",
    "    newContract.m_exchange = \"SMART\"\n",
    "    newContract.m_currency = currency\n",
    "    return newContract\n",
    "\n",
    "if __name__ == \"__main__\":\n",
    "    duration = 60\n",
    "    t = '11:15:00'\n",
    "    date = \"20161003\"\n",
    "    contract = makeStockContract('AAPL')\n",
    "    broker = HistoricalDataCollection(contract, date, t, duration)\n",
    "    broker.close()\n"
   ]
  },
  {
   "cell_type": "code",
   "execution_count": null,
   "metadata": {
    "collapsed": true
   },
   "outputs": [],
   "source": []
  }
 ],
 "metadata": {
  "kernelspec": {
   "display_name": "Python 3",
   "language": "python",
   "name": "python3"
  },
  "language_info": {
   "codemirror_mode": {
    "name": "ipython",
    "version": 3
   },
   "file_extension": ".py",
   "mimetype": "text/x-python",
   "name": "python",
   "nbconvert_exporter": "python",
   "pygments_lexer": "ipython3",
   "version": "3.4.3"
  }
 },
 "nbformat": 4,
 "nbformat_minor": 0
}
