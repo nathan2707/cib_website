{
 "cells": [
  {
   "cell_type": "code",
   "execution_count": 31,
   "metadata": {
    "collapsed": false
   },
   "outputs": [],
   "source": [
    "import pickle\n",
    "import datetime\n",
    "import pandas.io.data as web\n",
    "import sys\n",
    "import pandas as pd\n",
    "sys.path.append('../prod/')\n",
    "from Portfolio import Portfolio, Position"
   ]
  },
  {
   "cell_type": "markdown",
   "metadata": {},
   "source": [
    "Here is what this file does:\n",
    "(1) given an array of arrays of tuples (weight, ticker,dates) found in portfolios.txt, calculates historical returns of the fund by tracking the performance of the portfolio\n",
    "(2) for the most recent one, compute all static metrics (those who only depend on daily data) displayed by the website:\n",
    "    - Historical Performance\n",
    "    - Markowitz\n",
    "    - Monte Carlo\n",
    "    - Scalars\n",
    "    - Multi Factor Risk Model\n",
    "\n",
    "Updates in portfolio happen when the manager changes his positions manually. only these are kept track of in the .txt file.\n",
    "--> Should have a marker for when the second type of updates happen. display those updates on the historical performance chart (red dots)\n",
    "\n",
    "Everytime the portfolio is updated (at least once a day), a new portfolio is added to portfolio.txt from update.py. then the methods in this file are triggered and update the csv of returns before plotting new charts.\n",
    "\n",
    "To be data efficient, the returns data will solely be held by the csv file. no portfolio object will keep track of the returns of each of its positions."
   ]
  },
  {
   "cell_type": "markdown",
   "metadata": {},
   "source": [
    "###Manager Updates"
   ]
  },
  {
   "cell_type": "code",
   "execution_count": 72,
   "metadata": {
    "collapsed": false
   },
   "outputs": [],
   "source": [
    "P1 = (['GOOGL','FB','GLD'],[0.5,0.25,0.25],[792,128,1200],datetime.date.today())\n",
    "#where p is just like P1 : (tickers,initial weights, price of purchase, date of entry)\n",
    "\n",
    "def start_manager_update_process(p):\n",
    "    latest_portfolio = manager_portfolio_update(p)\n",
    "    save_portfolio(latest_portfolio)\n",
    "    make_new_charts(latest_portfolio)\n",
    "\n",
    "def manager_portfolio_update(p):\n",
    "    tickers = p[0]\n",
    "    weights = p[1]\n",
    "    costs = p[2]\n",
    "    df = manager_data_update(tickers)\n",
    "    assets = []\n",
    "    for i in range(len(tickers)):\n",
    "        symbol = tickers[i]\n",
    "        w = weights[i]\n",
    "        in_price = costs[i]\n",
    "        returns = df[symbol]\n",
    "        direction = direction(w)\n",
    "        assets.append(Position(symbol,returns,direction,in_price,w))\n",
    "    start_date = datetime.date.today()\n",
    "    latest_portfolio = Portfolio(assets,start_date)\n",
    "    return latest_portfolio\n",
    "    \n",
    "#initially load csv with one series going back at least to 2010\n",
    "def manager_data_update(tickers):\n",
    "    df = pd.DataFrame.from_csv(\"returns_data.csv\")\n",
    "    tickers = set(tickers)\n",
    "    new_tickers = list(tickers - set(df.columns))\n",
    "    new_columns = web.DataReader(new_tickers,'yahoo',datetime.datetime(2010, 1, 1))['Close']\n",
    "    new_columns = new_columns.pct_change()[1:len(new_columns)]\n",
    "    df = df.join(new_columns,how='outer')\n",
    "    df.to_csv(\"returns_data.csv\")\n",
    "    return df\n",
    "\n",
    "def save_portfolio(latest_portfolio):\n",
    "    #change latest_portfolio so it has net returns since invested in it but no full stock return series (not the returns grid)\n",
    "    with open('portfolio.txt', 'wb') as f:\n",
    "        pickle.dump(latest_portfolio.compile_portfolio(), f)"
   ]
  },
  {
   "cell_type": "markdown",
   "metadata": {},
   "source": [
    "###General"
   ]
  },
  {
   "cell_type": "code",
   "execution_count": null,
   "metadata": {
    "collapsed": true
   },
   "outputs": [],
   "source": [
    "def direction(w):\n",
    "    if w >= 0:\n",
    "        return \"long\"\n",
    "    else:\n",
    "        return \"short\"\n",
    "\n",
    "def make_new_charts(latest_portfolio):\n",
    "    return 'done'\n",
    "\n",
    "#use this to plot the historical performance of the fund, for whatever asset allocation\n",
    "def pull_old_portfolios():\n",
    "    with open('portfolio.txt','rb') as f:\n",
    "        var = pickle.load(f)\n",
    "    return var"
   ]
  },
  {
   "cell_type": "markdown",
   "metadata": {},
   "source": [
    "### Daily Updates"
   ]
  },
  {
   "cell_type": "code",
   "execution_count": 119,
   "metadata": {
    "collapsed": false
   },
   "outputs": [],
   "source": [
    "def start_daily_update_process():\n",
    "    latest_saved_portfolio = pull_latest_portfolio()\n",
    "    df = daily_data_updates()\n",
    "    latest_portfolio = daily_portfolio_update(latest_saved_portfolio,df)\n",
    "    make_new_charts(latest_portfolio)\n",
    "\n",
    "def daily_portfolio_update(latest_saved_portfolio,return_grid):\n",
    "    df = return_grid\n",
    "    latest_portfolio = latest_saved_portfolio.uncompile(df)\n",
    "    return latest_portfolio\n",
    "    \n",
    "def pull_latest_portfolio():\n",
    "    olds = pull_old_portfolios()\n",
    "    return olds[len(olds)-1]\n",
    "\n",
    "def daily_data_update():\n",
    "    df = pd.DataFrame.from_csv(\"returns_data.csv\")\n",
    "    tickers = df.columns\n",
    "    today_row = web.DataReader(tickers,'yahoo',datetime.date.today() - datetime.timedelta(days=1),datetime.date.today())['Close']\n",
    "    today_row = today_row.pct_change()[1:len(today_row)]\n",
    "    df = df.append(today_row)\n",
    "    df.to_csv(\"returns_data.csv\")\n",
    "    return df"
   ]
  },
  {
   "cell_type": "code",
   "execution_count": null,
   "metadata": {
    "collapsed": false
   },
   "outputs": [],
   "source": []
  },
  {
   "cell_type": "code",
   "execution_count": null,
   "metadata": {
    "collapsed": true
   },
   "outputs": [],
   "source": []
  },
  {
   "cell_type": "code",
   "execution_count": null,
   "metadata": {
    "collapsed": true
   },
   "outputs": [],
   "source": []
  },
  {
   "cell_type": "code",
   "execution_count": null,
   "metadata": {
    "collapsed": true
   },
   "outputs": [],
   "source": []
  },
  {
   "cell_type": "code",
   "execution_count": null,
   "metadata": {
    "collapsed": true
   },
   "outputs": [],
   "source": []
  }
 ],
 "metadata": {
  "kernelspec": {
   "display_name": "Python 3",
   "language": "python",
   "name": "python3"
  },
  "language_info": {
   "codemirror_mode": {
    "name": "ipython",
    "version": 3
   },
   "file_extension": ".py",
   "mimetype": "text/x-python",
   "name": "python",
   "nbconvert_exporter": "python",
   "pygments_lexer": "ipython3",
   "version": "3.4.3"
  }
 },
 "nbformat": 4,
 "nbformat_minor": 0
}
