{
 "cells": [
  {
   "cell_type": "code",
   "execution_count": 1,
   "metadata": {
    "collapsed": false
   },
   "outputs": [],
   "source": [
    "import pickle\n",
    "import datetime\n",
    "import pandas.io.data as web\n",
    "import sys\n",
    "import pandas as pd\n",
    "sys.path.append('../prod/')\n",
    "from Portfolio import Portfolio, Position\n",
    "import os"
   ]
  },
  {
   "cell_type": "code",
   "execution_count": 18,
   "metadata": {
    "collapsed": false
   },
   "outputs": [],
   "source": [
    "start_date = datetime.datetime(2016,10,3)"
   ]
  },
  {
   "cell_type": "code",
   "execution_count": 20,
   "metadata": {
    "collapsed": true
   },
   "outputs": [],
   "source": [
    "P1 = (['FB', 'GLD', 'GPS', 'OIL', 'XOM'],[0.2,0.2,0.2,0.2,0.2],[127.8,124.9,21.57,5.83,86.54])\n",
    "p = start_manager_update_process(P1)"
   ]
  },
  {
   "cell_type": "markdown",
   "metadata": {},
   "source": [
    "###Manager Updates"
   ]
  },
  {
   "cell_type": "code",
   "execution_count": 19,
   "metadata": {
    "collapsed": false
   },
   "outputs": [],
   "source": [
    "#where p is just like P1 : (tickers,initial weights, price of purchase)\n",
    "def start_manager_update_process(p):\n",
    "    if os.path.isfile('./portfolio.txt') is False:\n",
    "        # a  few requirements to set up the data pipeline\n",
    "        df = web.DataReader(['GOOGL','GLD'],'yahoo',datetime.datetime(2010, 1, 1))['Close']\n",
    "        df = df.pct_change()[1:len(df)]\n",
    "        df.columns = ['GOOGL','GLD']\n",
    "        df.to_csv(\"returns_data.csv\")\n",
    "        with open('portfolio.txt','wb') as f:\n",
    "            pickle.dump([],f)\n",
    "  \n",
    "    latest_portfolio = manager_portfolio_update(p)\n",
    "    save_new_portfolio(latest_portfolio)\n",
    "    return latest_portfolio\n",
    "\n",
    "def manager_portfolio_update(p):\n",
    "    tickers = p[0]\n",
    "    weights = p[1]\n",
    "    costs = p[2]\n",
    "    df = manager_data_update(tickers)\n",
    "    df = df.dropna(thresh=len(tickers), axis=0) #this line restrict historical calculations to data points shared by all equities\n",
    "    all_dates = df.index\n",
    "    assets = []\n",
    "    for i in range(len(tickers)):\n",
    "        symbol = tickers[i]\n",
    "        w = weights[i]\n",
    "        in_price = costs[i]\n",
    "        returns = df[symbol]\n",
    "        direction_pos = direction(w)\n",
    "        assets.append(Position(symbol,returns,direction_pos,in_price,w))\n",
    "    #start_date = datetime.date.today() - datetime.timedelta(3)\n",
    "    start_date = datetime.datetime(2016,10,3)\n",
    "    latest_portfolio = Portfolio(assets,start_date,all_dates)\n",
    "    return latest_portfolio\n",
    "    \n",
    "#initially load csv with one series going back at least to 2010\n",
    "def manager_data_update(tickers):\n",
    "    df = pd.DataFrame.from_csv(\"returns_data.csv\")\n",
    "    tickers = set(tickers)\n",
    "    new_tickers = list(tickers - set(df.columns))\n",
    "    new_columns = web.DataReader(new_tickers,'yahoo',datetime.datetime(2010, 1, 1))['Close']\n",
    "    new_columns = new_columns.pct_change()[1:len(new_columns)]\n",
    "    df = df.join(new_columns,how='outer')\n",
    "    df.to_csv(\"returns_data.csv\")\n",
    "    return df\n",
    "\n",
    "def save_new_portfolio(latest_portfolio):\n",
    "    all_portfolios = pull_old_portfolios()\n",
    "    all_portfolios.append(latest_portfolio.compile_portfolio())\n",
    "    with open('portfolio.txt', 'wb') as f:\n",
    "        pickle.dump(all_portfolios, f)"
   ]
  },
  {
   "cell_type": "markdown",
   "metadata": {},
   "source": [
    "###General"
   ]
  },
  {
   "cell_type": "code",
   "execution_count": 3,
   "metadata": {
    "collapsed": true
   },
   "outputs": [],
   "source": [
    "def direction(w):\n",
    "    if w >= 0:\n",
    "        return \"long\"\n",
    "    else:\n",
    "        return \"short\"\n",
    "\n",
    "#use this to plot the historical performance of the fund, for whatever asset allocation\n",
    "def pull_old_portfolios():\n",
    "    with open('portfolio.txt','rb') as f:\n",
    "        var = pickle.load(f)\n",
    "    return var"
   ]
  },
  {
   "cell_type": "markdown",
   "metadata": {},
   "source": [
    "### Daily Updates"
   ]
  },
  {
   "cell_type": "code",
   "execution_count": 4,
   "metadata": {
    "collapsed": false
   },
   "outputs": [],
   "source": [
    "def start_daily_update_process():\n",
    "    latest_saved_portfolio = pull_latest_portfolio()\n",
    "    df = daily_data_update()\n",
    "    latest_portfolio = daily_portfolio_update(latest_saved_portfolio,df)\n",
    "    update_last_portfolio(latest_portfolio)\n",
    "\n",
    "def daily_portfolio_update(latest_saved_portfolio,return_grid):\n",
    "    df = return_grid\n",
    "    latest_portfolio = latest_saved_portfolio.uncompile_and_update(df)\n",
    "    return latest_portfolio\n",
    "    \n",
    "def pull_latest_portfolio():\n",
    "    olds = pull_old_portfolios()\n",
    "    return olds[len(olds)-1]\n",
    "\n",
    "def daily_data_update():\n",
    "    df = pd.DataFrame.from_csv(\"returns_data.csv\")\n",
    "    tickers = df.columns\n",
    "    today_row = web.DataReader(tickers,'yahoo',start_date,datetime.date.today())['Close']\n",
    "    today_row = today_row.pct_change()[1:len(today_row)]\n",
    "    df = df.append(today_row)\n",
    "    df.to_csv(\"returns_data.csv\")\n",
    "    return df\n",
    "\n",
    "def update_last_portfolio(latest_portfolio):\n",
    "    all_portfolios = pull_old_portfolios()\n",
    "    all_portfolios[len(all_portfolios)-1] = latest_portfolio.compile_portfolio()\n",
    "    with open('portfolio.txt', 'wb') as f:\n",
    "        pickle.dump(all_portfolios, f)"
   ]
  },
  {
   "cell_type": "code",
   "execution_count": 21,
   "metadata": {
    "collapsed": false
   },
   "outputs": [],
   "source": [
    "start_daily_update_process()"
   ]
  },
  {
   "cell_type": "code",
   "execution_count": 22,
   "metadata": {
    "collapsed": true
   },
   "outputs": [],
   "source": [
    "port = pull_latest_portfolio()"
   ]
  },
  {
   "cell_type": "code",
   "execution_count": 23,
   "metadata": {
    "collapsed": false
   },
   "outputs": [
    {
     "data": {
      "text/plain": [
       "<Portfolio.Portfolio_Compiled at 0x109891278>"
      ]
     },
     "execution_count": 23,
     "metadata": {},
     "output_type": "execute_result"
    }
   ],
   "source": [
    "port"
   ]
  },
  {
   "cell_type": "code",
   "execution_count": 24,
   "metadata": {
    "collapsed": true
   },
   "outputs": [],
   "source": [
    "port = port.uncompile()"
   ]
  },
  {
   "cell_type": "code",
   "execution_count": 27,
   "metadata": {
    "collapsed": false
   },
   "outputs": [
    {
     "data": {
      "text/plain": [
       "[5.9019330961499641,\n",
       " 5.7112310537418916,\n",
       " 3.7056248513536598,\n",
       " 9.173448264667563,\n",
       " 15.712082868372507,\n",
       " 54.095796274634914,\n",
       " 152.04114585827747,\n",
       " 66.146580934036123,\n",
       " 61.869458156439705,\n",
       " 19.989881512484583,\n",
       " 18.987953016605072,\n",
       " 11.799345165723254,\n",
       " 18.286830433152659,\n",
       " 42.898360836552811,\n",
       " 18.513600199879424,\n",
       " 25.016515153557744,\n",
       " 37.806893659617408,\n",
       " 9.8607713531614607,\n",
       " 6.9394914817749491,\n",
       " 4.1135824428849821,\n",
       " 3.2825156433896781,\n",
       " -1.1197038381500124,\n",
       " -0.34266449794942133,\n",
       " 0.14341684694864251,\n",
       " -0.2438676506417361,\n",
       " -0.26867559790866619,\n",
       " -0.97014582604446375,\n",
       " -1.1553593724519777,\n",
       " -2.3160421711805688,\n",
       " 0.24460221178603964,\n",
       " 0.60734686990404674,\n",
       " 0.8995645312164261,\n",
       " 3.1622709063743284,\n",
       " 8.0465347241616954,\n",
       " 3.5929674764006383,\n",
       " 3.279565796451823,\n",
       " 1.839832420369852,\n",
       " 1.5184261639258732,\n",
       " 0.94043754641687893,\n",
       " 1.2322891598891907,\n",
       " 2.871490417372291,\n",
       " 1.4256647274704746,\n",
       " 1.8633564641038163,\n",
       " 2.2045585117344957,\n",
       " 1.2871209257077174,\n",
       " 0.96209650635741928,\n",
       " 0.71653426569528489,\n",
       " 0.60052694654140082,\n",
       " -0.027717693945948613,\n",
       " -0.015099319438440754,\n",
       " -0.0023155762048743212,\n",
       " 0.003324269297779577,\n",
       " 0.0038032256119778164,\n",
       " 0.010324902649205143,\n",
       " 0.0088720810251800633,\n",
       " 0.019064733573267833]"
      ]
     },
     "execution_count": 27,
     "metadata": {},
     "output_type": "execute_result"
    }
   ],
   "source": [
    "port.daily_values"
   ]
  },
  {
   "cell_type": "code",
   "execution_count": 26,
   "metadata": {
    "collapsed": false
   },
   "outputs": [
    {
     "data": {
      "text/plain": [
       "datetime.datetime(2016, 10, 3, 0, 0)"
      ]
     },
     "execution_count": 26,
     "metadata": {},
     "output_type": "execute_result"
    }
   ],
   "source": [
    "port.start_date"
   ]
  },
  {
   "cell_type": "code",
   "execution_count": null,
   "metadata": {
    "collapsed": true
   },
   "outputs": [],
   "source": []
  }
 ],
 "metadata": {
  "kernelspec": {
   "display_name": "Python 3",
   "language": "python",
   "name": "python3"
  },
  "language_info": {
   "codemirror_mode": {
    "name": "ipython",
    "version": 3
   },
   "file_extension": ".py",
   "mimetype": "text/x-python",
   "name": "python",
   "nbconvert_exporter": "python",
   "pygments_lexer": "ipython3",
   "version": "3.4.3"
  }
 },
 "nbformat": 4,
 "nbformat_minor": 0
}
