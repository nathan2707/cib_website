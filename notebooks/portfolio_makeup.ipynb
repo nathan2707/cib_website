{
 "cells": [
  {
   "cell_type": "code",
   "execution_count": 5,
   "metadata": {
    "collapsed": false
   },
   "outputs": [],
   "source": [
    "import pandas.io.data as web\n",
    "import pandas as pd\n",
    "import datetime\n",
    "import sys\n",
    "import pandas as pd\n",
    "sys.path.append('../prod/')\n",
    "import Markowitz\n",
    "import Updates_Manager\n",
    "import numpy as np\n",
    "import math"
   ]
  },
  {
   "cell_type": "code",
   "execution_count": 3,
   "metadata": {
    "collapsed": true
   },
   "outputs": [],
   "source": [
    "class Position:\n",
    "    def __init__(self,symbol,returns,direction,in_price,weight):\n",
    "        #format for dates: \"YYYY-MM-dd\"\n",
    "        self.symbol = symbol\n",
    "        self.returns = returns\n",
    "        self.direction = direction\n",
    "        self.in_price = in_price\n",
    "        self.weight = weight\n",
    "        if direction == \"long\":\n",
    "            self.returns *= 100\n",
    "        else:\n",
    "            self.returns *= -100"
   ]
  },
  {
   "cell_type": "code",
   "execution_count": 4,
   "metadata": {
    "collapsed": true
   },
   "outputs": [],
   "source": [
    "class Portfolio:\n",
    "    def __init__(self,assets,start_date,all_dates):\n",
    "        self.start_date = start_date\n",
    "        self.positions = assets\n",
    "        self.symbols = [asset.symbol for asset in self.positions]\n",
    "        self.returns_grid = np.array([asset.returns for asset in self.positions])\n",
    "        self.weights = np.array([asset.weight for asset in self.positions])\n",
    "        #historical\n",
    "        self.historical_dates = all_dates\n",
    "        self.historical_returns = np.dot(self.weights.transpose(),self.returns_grid)\n",
    "        self.covariance_matrix = np.cov(self.returns_grid)\n",
    "        self.net_variance = np.dot(self.weights.T,np.dot(self.covariance_matrix,self.weights))\n",
    "        self.net_expectation = np.mean(self.historical_returns)\n",
    "        #actual\n",
    "        self.daily_values = calculate_values(assets,self.historical_returns,start_date,all_dates)\n",
    "    \n",
    "    def get_values(self):\n",
    "        return self.daily_values\n",
    "    def get_covariance_matrix(self):\n",
    "        return self.covariance_matrix\n",
    "    def get_historical_returns(self):\n",
    "        return pd.Series(self.historical_returns,index=self.historical_dates)\n",
    "    def get_variance(self):\n",
    "        return self.net_variance\n",
    "    def get_historical_expectation(self):\n",
    "        return self.net_expectation\n",
    "    def get_tickers(self):\n",
    "        return self.symbols    \n",
    "    def get_optimal_portfolio(self):\n",
    "        #looking back one year only. subject to change\n",
    "        start_index = len(self.returns)-253\n",
    "        end_index = len(self.returns)-1\n",
    "        return_grid = self.returns_grid[:,start_index:end_index]\n",
    "        weights, poly = Markowitz.optimal_portfolio_quad(return_grid,frontier=True)\n",
    "        return {'weights':weights,'curve':poly}\n",
    "    def get_current_asset_allocation(self):\n",
    "        for k in range(len(self.all_dates)-1,0,-1):\n",
    "            if (pd.Timestamp(self.start_date).to_datetime() - self.all_dates[k].to_datetime()).days == 0:\n",
    "                grid = self.returns_grid[0:len(self.returns_grid),k:-1]\n",
    "        current_value = self.daily_values[-1]\n",
    "        current_weights = []\n",
    "        for i in range(np.shape(grid)[0]):\n",
    "            weight_i = self.weights[i]\n",
    "            for j in range(np.shape(grid)[1]):\n",
    "                weight_i = weight_i * (1+grid[i][j]/100)\n",
    "            current_weights.append(weight_i/current_value)\n",
    "        return current_weights\n",
    "                \n",
    "    def compile_portfolio(self):\n",
    "        in_prices = []\n",
    "        directions = []\n",
    "        for i in range(len(self.positions)):\n",
    "            in_prices.append(self.positions[i].in_price)\n",
    "            directions.append(self.positions[i].direction)\n",
    "        compilation = Portfolio_Compiled(self.symbols,self.start_date,self.weights,in_prices,directions,self.daily_values,self.net_variance,self.net_expectation,self.historical_dates)\n",
    "        return compilation\n",
    "\n",
    "def calculate_values(assets,historical_returns,start_date,all_dates):\n",
    "        #calculate first return taking into account price at which PM entered position\n",
    "        first_return = 0\n",
    "        for asset in assets:\n",
    "            first_date = start_date - datetime.timedelta(1)\n",
    "            first_price = web.DataReader(asset.symbol,'yahoo',first_date)['Close'][0]\n",
    "            r = 100*(first_price - asset.in_price)/asset.in_price\n",
    "            if asset.direction != 'long':\n",
    "                r = -r\n",
    "            first_return = first_return + r\n",
    "        #find index of first date\n",
    "        for i in range(len(all_dates)-1,0,-1):\n",
    "            if (pd.Timestamp(start_date).to_datetime() - all_dates[i].to_datetime()).days == 0:\n",
    "                returns = np.insert(historical_returns[i:len(historical_returns)],0,first_return)\n",
    "                roll = 1\n",
    "                values = []\n",
    "                for i in range(len(returns)):\n",
    "                    roll = roll * (1 + returns[i])\n",
    "                    values.append(roll)\n",
    "                return values\n",
    "\n",
    "class Portfolio_Compiled:\n",
    "    def __init__(self,tickers,start_date,initial_weights,in_prices,directions,returns,net_variance,net_expectation,all_dates):\n",
    "        self.tickers = tickers\n",
    "        self.start_date = start_date\n",
    "        self.in_prices = in_prices\n",
    "        self.directions = directions\n",
    "        self.initial_weights = initial_weights\n",
    "        self.net_returns = returns\n",
    "        self.net_variance = net_variance\n",
    "        self.net_expectation = net_expectation\n",
    "        self.historical_dates = all_dates\n",
    "    \n",
    "    def uncompile_and_update(self,df):\n",
    "        positions = []\n",
    "        for i in range(self.tickers):\n",
    "                pos = Position(self.tickers[i],df[self.tickers[i]],self.directions[i],self.in_prices[i],self.initial_weights[i])\n",
    "                positions.append(pos)\n",
    "        portfolio = Portfolio(positions,self.start_date,self.historical_dates)\n",
    "        return portfolio\n",
    "    \n",
    "    def uncompile(self):\n",
    "        df = pd.DataFrame.from_csv(\"returns_data.csv\")\n",
    "        positions = []\n",
    "        for i in range(len(self.tickers)):\n",
    "                pos = Position(self.tickers[i],df[self.tickers[i]],self.directions[i],self.in_prices[i],self.initial_weights[i])\n",
    "                positions.append(pos)\n",
    "        portfolio = Portfolio(positions,self.start_date,self.historical_dates)\n",
    "        return portfolio"
   ]
  },
  {
   "cell_type": "markdown",
   "metadata": {},
   "source": [
    "### Example : use of the data structure and efficiency frontier"
   ]
  },
  {
   "cell_type": "code",
   "execution_count": 37,
   "metadata": {
    "collapsed": false
   },
   "outputs": [],
   "source": [
    "import matplotlib.pyplot as plt\n",
    "%matplotlib inline\n",
    "tickers = ['YHOO','STK','GOOGL','AMZN','EBAY']\n",
    "weights = [0.2,0.1,0.4,0.15,0.15]\n",
    "#instantiate positions\n",
    "positions = []\n",
    "start_date = datetime.datetime(2010, 1, 1)\n",
    "for i in range(len(tickers)):\n",
    "    positions.append(Position(tickers[i],\"long\",30,start_date,weights[i],\"NASDAQ\",\"stock\"))\n",
    "#instantiate portfolio\n",
    "portfolio = Portfolio(positions)\n",
    "\n",
    "struct = portfolio.optimal_portfolio()\n",
    "x1 = struct['curve'][2]\n",
    "x2 = struct['curve'][1]\n",
    "x3 = struct['curve'][0]\n",
    "returns = np.linspace(-5,5,1000)\n",
    "risks = [x1+x2*returns[i]+x3*returns[i]*returns[i] for i in range(len(returns))]\n",
    "\n",
    "plt.plot(risks,returns)"
   ]
  },
  {
   "cell_type": "code",
   "execution_count": null,
   "metadata": {
    "collapsed": true
   },
   "outputs": [],
   "source": []
  }
 ],
 "metadata": {
  "kernelspec": {
   "display_name": "Python 3",
   "language": "python",
   "name": "python3"
  },
  "language_info": {
   "codemirror_mode": {
    "name": "ipython",
    "version": 3
   },
   "file_extension": ".py",
   "mimetype": "text/x-python",
   "name": "python",
   "nbconvert_exporter": "python",
   "pygments_lexer": "ipython3",
   "version": "3.4.3"
  }
 },
 "nbformat": 4,
 "nbformat_minor": 0
}
