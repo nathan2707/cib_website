{
 "cells": [
  {
   "cell_type": "code",
   "execution_count": 8,
   "metadata": {
    "collapsed": false
   },
   "outputs": [],
   "source": [
    "import matplotlib.pyplot as plt\n",
    "import Updates_Manager\n",
    "start_date = datetime.datetime(2015,10,3)\n",
    "P1 = (['AAPL','MSFT','AMZN'],[10,12,6],[99.6,45.5,532.5],900)\n",
    "p = Updates_Manager.start_manager_update_process(P1,start_date)"
   ]
  },
  {
   "cell_type": "code",
   "execution_count": 70,
   "metadata": {
    "collapsed": false
   },
   "outputs": [],
   "source": [
    "mc_sim = Simulation(p)"
   ]
  },
  {
   "cell_type": "code",
   "execution_count": 77,
   "metadata": {
    "collapsed": false
   },
   "outputs": [
    {
     "data": {
      "text/plain": [
       "3.1481084709333205"
      ]
     },
     "execution_count": 77,
     "metadata": {},
     "output_type": "execute_result"
    }
   ],
   "source": [
    "mc_sim.get_third_q()"
   ]
  },
  {
   "cell_type": "code",
   "execution_count": 89,
   "metadata": {
    "collapsed": false
   },
   "outputs": [
    {
     "data": {
      "text/plain": [
       "-0.5"
      ]
     },
     "execution_count": 89,
     "metadata": {},
     "output_type": "execute_result"
    }
   ],
   "source": [
    "a = [1,2,3,3,3,2,2,1]\n",
    "min(pd.Series(a).pct_change()[1:])"
   ]
  },
  {
   "cell_type": "code",
   "execution_count": 88,
   "metadata": {
    "collapsed": false
   },
   "outputs": [
    {
     "data": {
      "text/plain": [
       "1    1.000000\n",
       "2    0.500000\n",
       "3    0.000000\n",
       "4    0.000000\n",
       "5   -0.333333\n",
       "6    0.000000\n",
       "7   -0.500000\n",
       "dtype: float64"
      ]
     },
     "execution_count": 88,
     "metadata": {},
     "output_type": "execute_result"
    }
   ],
   "source": [
    "pd.Series(a).pct_change()[1:]"
   ]
  },
  {
   "cell_type": "code",
   "execution_count": 78,
   "metadata": {
    "collapsed": false
   },
   "outputs": [],
   "source": [
    "series = mc_sim.get_full_perf_quartile(3)"
   ]
  },
  {
   "cell_type": "code",
   "execution_count": 80,
   "metadata": {
    "collapsed": false
   },
   "outputs": [
    {
     "ename": "KeyboardInterrupt",
     "evalue": "",
     "output_type": "error",
     "traceback": [
      "\u001b[0;31m---------------------------------------------------------------------------\u001b[0m",
      "\u001b[0;31mKeyboardInterrupt\u001b[0m                         Traceback (most recent call last)",
      "\u001b[0;32m//anaconda/lib/python3.4/site-packages/matplotlib/backend_bases.py\u001b[0m in \u001b[0;36menter_notify_event\u001b[0;34m(self, guiEvent, xy)\u001b[0m\n\u001b[1;32m   1950\u001b[0m         \u001b[0mself\u001b[0m\u001b[0;34m.\u001b[0m\u001b[0m_lastx\u001b[0m\u001b[0;34m,\u001b[0m \u001b[0mself\u001b[0m\u001b[0;34m.\u001b[0m\u001b[0m_lasty\u001b[0m \u001b[0;34m=\u001b[0m \u001b[0;32mNone\u001b[0m\u001b[0;34m,\u001b[0m \u001b[0;32mNone\u001b[0m\u001b[0;34m\u001b[0m\u001b[0m\n\u001b[1;32m   1951\u001b[0m \u001b[0;34m\u001b[0m\u001b[0m\n\u001b[0;32m-> 1952\u001b[0;31m     \u001b[0;32mdef\u001b[0m \u001b[0menter_notify_event\u001b[0m\u001b[0;34m(\u001b[0m\u001b[0mself\u001b[0m\u001b[0;34m,\u001b[0m \u001b[0mguiEvent\u001b[0m\u001b[0;34m=\u001b[0m\u001b[0;32mNone\u001b[0m\u001b[0;34m,\u001b[0m \u001b[0mxy\u001b[0m\u001b[0;34m=\u001b[0m\u001b[0;32mNone\u001b[0m\u001b[0;34m)\u001b[0m\u001b[0;34m:\u001b[0m\u001b[0;34m\u001b[0m\u001b[0m\n\u001b[0m\u001b[1;32m   1953\u001b[0m         \"\"\"\n\u001b[1;32m   1954\u001b[0m         \u001b[0mBackend\u001b[0m \u001b[0mderived\u001b[0m \u001b[0mclasses\u001b[0m \u001b[0mshould\u001b[0m \u001b[0mcall\u001b[0m \u001b[0mthis\u001b[0m \u001b[0mfunction\u001b[0m \u001b[0mwhen\u001b[0m \u001b[0mentering\u001b[0m\u001b[0;34m\u001b[0m\u001b[0m\n",
      "\u001b[0;31mKeyboardInterrupt\u001b[0m: "
     ]
    }
   ],
   "source": [
    "plt.plot(series)\n",
    "plt.show()"
   ]
  },
  {
   "cell_type": "code",
   "execution_count": 91,
   "metadata": {
    "collapsed": true
   },
   "outputs": [],
   "source": [
    "import Portfolio\n",
    "from dateutil import rrule\n",
    "import datetime\n",
    "import math\n",
    "import numpy as np\n",
    "import pandas as pd\n",
    "\n",
    "#Monte Carlo API:\n",
    "# (1) call monte_carlo_simulation(mu,sigma,n_trials,horizon) where horizon is in months, n_trials the number of experiments, mu and sigma the statistics of your portfolio\n",
    "# (2) call MonteCarlo_statistics(perf) where perf is returned by the previous call. Plot the historical perfs of the few quantiles versus the trading days also returned by the previous function.\n",
    "# (3) interactively pull probas from probability_of_perf(final_perf,goal,upside=True)\n",
    "\n",
    "class Simulation:\n",
    "    #weights and forecasts are optional ordered dictionaries with tickers as keys\n",
    "    def __init__(self,portfolio,horizon=48,n_trials=1000, weights = 0, forecasts = 0):\n",
    "        self.horizon = horizon\n",
    "        self.n_trials = n_trials\n",
    "        if weights != 0:\n",
    "            weights = np.array(weights.values())\n",
    "            covariance_matrix = np.cov(portfolio.returns_grid)\n",
    "            self.sigma = math.sqrt(np.dot(weights.T, np.dot(covariance_matrix, weights)))\n",
    "            if forecasts == 0:\n",
    "                hist_returns = np.dot(weights.transpose(), portfolio.returns_grid)\n",
    "                self.mu = np.mean(hist_returns)\n",
    "            else:\n",
    "                forecasts = np.array(forecasts.values())\n",
    "                self.mu = weights.dot(forecasts)\n",
    "        else:\n",
    "            self.sigma = math.sqrt(portfolio.net_variance)\n",
    "            if forecasts == 0:\n",
    "                self.mu = portfolio.net_expectation\n",
    "            else:\n",
    "                forecasts = np.array(forecasts.values())\n",
    "                self.mu = portfolio.weights.dot(forecasts)\n",
    "\n",
    "        self.trading_days, self.returns = monte_carlo_simulation(self.mu, self.sigma, self.n_trials, self.horizon)\n",
    "        self.final,self.stats,self.perf_series_quartile1,self.perf_series_quartile2,self.perf_series_quartile3 = MonteCarlo_statistics(self.returns)\n",
    "        self.mean = self.stats[0]['mean']\n",
    "        self.max = self.stats[0]['max']\n",
    "        self.min = self.stats[0]['min']\n",
    "        self.std = self.stats[0]['std']\n",
    "        self.quartile1 = self.stats[0]['25%']\n",
    "        self.quartile2 = self.stats[0]['50%']\n",
    "        self.quartile3 = self.stats[0]['75%']\n",
    "\n",
    "    \n",
    "    #Asking what is the probability to perform better than a given goal or worst than a given limit\n",
    "    #simply the cdf of the distribution of final performance obtained from monte carlo simulation\n",
    "    #upside is for better than goal; if false assume proba of doing worst than goal\n",
    "    def probability_of_perf(self,goal,upside=True):\n",
    "        ordered_perfs = self.final[0].sort(inplace=False)\n",
    "        if upside is True:\n",
    "            p = ordered_perfs[ordered_perfs >= goal].count()/(ordered_perfs.count()+1)\n",
    "        else:\n",
    "            p = ordered_perfs[ordered_perfs <= goal].count()/(ordered_perfs.count()+1)\n",
    "        return p\n",
    "    \n",
    "    def get_trading_days(self):\n",
    "        return self.trading_days\n",
    "\n",
    "    def get_full_perf_quartile(self,quartile):\n",
    "        if quartile == 1:\n",
    "            #25%\n",
    "            return self.perf_series_quartile1\n",
    "        elif quartile == 2:\n",
    "            #50% - median\n",
    "            return self.perf_series_quartile2\n",
    "        elif quartile == 3:\n",
    "            #75%\n",
    "            return self.perf_series_quartile3\n",
    "\n",
    "    def get_min(self):\n",
    "        return self.min\n",
    "    def get_max(self):\n",
    "        return self.max\n",
    "    def get_mean(self):\n",
    "        return self.mean\n",
    "    def get_std(self):\n",
    "        return self.std\n",
    "    def get_perf_first_q(self):\n",
    "        return self.quartile1\n",
    "    def get_perf_second_q(self):\n",
    "        return self.quartile2\n",
    "    def get_perf_third_q(self):\n",
    "        return self.quartile3\n",
    "    def get_max_drawdown_first_q(self):\n",
    "        min(pd.Series(self.quartile1).pct_change()[1:])*100\n",
    "    def get_max_drawdup_first_q(self):\n",
    "        max(pd.Series(self.quartile1).pct_change()[1:])*100\n",
    "    def get_max_drawdown_second_q(self):\n",
    "        min(pd.Series(self.quartile2).pct_change()[1:])*100\n",
    "    def get_max_drawdup_second_q(self):\n",
    "        max(pd.Series(self.quartile2).pct_change()[1:])*100\n",
    "    def get_max_drawdown_third_q(self):\n",
    "        min(pd.Series(self.quartile3).pct_change()[1:])*100\n",
    "    def get_max_drawdup_third_q(self):\n",
    "        max(pd.Series(self.quartile3).pct_change()[1:])*100"
   ]
  },
  {
   "cell_type": "code",
   "execution_count": 67,
   "metadata": {
    "collapsed": true
   },
   "outputs": [],
   "source": [
    "#returns statistics for the MC simulation (complete track of 75th,median,25th quartiles; final perf of mean,max,min,sd);\n",
    "def MonteCarlo_statistics(perf):\n",
    "    #equity = (1+0.01r1)(1+0.01r2)...(1+0.01rn)\n",
    "    final = 1+(perf/100)\n",
    "    final = np.prod(final,axis=1)\n",
    "    \n",
    "    final = pd.DataFrame(final)\n",
    "    info = final.describe()\n",
    "    quartile1 = info[0]['25%']\n",
    "    quartile2 = info[0]['50%']\n",
    "    quartile3 = info[0]['75%']\n",
    "    index_quartile1 = final[(quartile1-0.001*quartile1<final) & (quartile1+0.001*quartile1>final)].first_valid_index()\n",
    "    index_quartile2 = final[(quartile2-0.001*quartile2<final) & (quartile2+0.001*quartile2>final)].first_valid_index()\n",
    "    index_quartile3 = final[(quartile3-0.001*quartile3<final) & (quartile3+0.001*quartile3>final)].first_valid_index()\n",
    "    \n",
    "    perf_series_quartile1 = roll_prod(perf[index_quartile1])\n",
    "    perf_series_quartile2 = roll_prod(perf[index_quartile2])\n",
    "    perf_series_quartile3 = roll_prod(perf[index_quartile3])\n",
    "    return final,info,perf_series_quartile1,perf_series_quartile2,perf_series_quartile3\n",
    "\n",
    "def roll_prod(array):\n",
    "    new_array = [1]\n",
    "    roll = 1\n",
    "    for el in array:\n",
    "        roll = roll * (1+el/100)\n",
    "        new_array.append(roll)\n",
    "    return new_array\n",
    "\n",
    "#horizon in months\n",
    "#about 45 seconds for 1 million trials and 4 years\n",
    "def monte_carlo_simulation(mu,sigma,n_trials,horizon):\n",
    "    start_date = datetime.date.today()\n",
    "    end_date = start_date + datetime.timedelta(horizon*365/12)\n",
    "    trading_days = list(NYSE_tradingdays(start_date,end_date))\n",
    "    n_days = len(trading_days)\n",
    "    returns = np.random.normal(mu,sigma,size=(n_trials,n_days))\n",
    "    return trading_days,returns\n",
    "\n",
    "def NYSE_tradingdays(a,b):\n",
    "    rs = rrule.rruleset()\n",
    "    rs.rrule(rrule.rrule(rrule.DAILY, dtstart=a, until=b))\n",
    "    # Exclude weekends and holidays\n",
    "    rs.exrule(rrule.rrule(rrule.WEEKLY, dtstart=a, byweekday=(rrule.SA,rrule.SU)))\n",
    "    rs.exrule(NYSE_holidays(a,b))\n",
    "    return rs\n",
    "\n",
    "def NYSE_holidays(a=datetime.date.today(), b=datetime.date.today()+datetime.timedelta(days=365)):\n",
    "    rs = rrule.rruleset()\n",
    "    # Include all potential holiday observances\n",
    "    rs.rrule(rrule.rrule(rrule.YEARLY, dtstart=a, until=b, bymonth=12, bymonthday=31, byweekday=rrule.FR)) # New Years Day\n",
    "    rs.rrule(rrule.rrule(rrule.YEARLY, dtstart=a, until=b, bymonth= 1, bymonthday= 1))                     # New Years Day\n",
    "    rs.rrule(rrule.rrule(rrule.YEARLY, dtstart=a, until=b, bymonth= 1, bymonthday= 2, byweekday=rrule.MO)) # New Years Day\n",
    "    rs.rrule(rrule.rrule(rrule.YEARLY, dtstart=a, until=b, bymonth= 1, byweekday= rrule.MO(3)))            # Martin Luther King Day\n",
    "    rs.rrule(rrule.rrule(rrule.YEARLY, dtstart=a, until=b, bymonth= 2, byweekday= rrule.MO(3)))            # Washington's Birthday\n",
    "    rs.rrule(rrule.rrule(rrule.YEARLY, dtstart=a, until=b, byeaster= -2))                                  # Good Friday\n",
    "    rs.rrule(rrule.rrule(rrule.YEARLY, dtstart=a, until=b, bymonth= 5, byweekday= rrule.MO(-1)))           # Memorial Day\n",
    "    rs.rrule(rrule.rrule(rrule.YEARLY, dtstart=a, until=b, bymonth= 7, bymonthday= 3, byweekday=rrule.FR)) # Independence Day\n",
    "    rs.rrule(rrule.rrule(rrule.YEARLY, dtstart=a, until=b, bymonth= 7, bymonthday= 4))                     # Independence Day\n",
    "    rs.rrule(rrule.rrule(rrule.YEARLY, dtstart=a, until=b, bymonth= 7, bymonthday= 5, byweekday=rrule.MO)) # Independence Day\n",
    "    rs.rrule(rrule.rrule(rrule.YEARLY, dtstart=a, until=b, bymonth= 9, byweekday= rrule.MO(1)))            # Labor Day\n",
    "    rs.rrule(rrule.rrule(rrule.YEARLY, dtstart=a, until=b, bymonth=11, byweekday= rrule.TH(4)))            # Thanksgiving Day\n",
    "    rs.rrule(rrule.rrule(rrule.YEARLY, dtstart=a, until=b, bymonth=12, bymonthday=24, byweekday=rrule.FR)) # Christmas\n",
    "    rs.rrule(rrule.rrule(rrule.YEARLY, dtstart=a, until=b, bymonth=12, bymonthday=25))                     # Christmas\n",
    "    rs.rrule(rrule.rrule(rrule.YEARLY, dtstart=a, until=b, bymonth=12, bymonthday=26, byweekday=rrule.MO)) # Christmas\n",
    "    # Exclude potential holidays that fall on weekends\n",
    "    rs.exrule(rrule.rrule(rrule.WEEKLY, dtstart=a, until=b, byweekday=(rrule.SA,rrule.SU)))\n",
    "    return rs"
   ]
  },
  {
   "cell_type": "code",
   "execution_count": null,
   "metadata": {
    "collapsed": true
   },
   "outputs": [],
   "source": []
  }
 ],
 "metadata": {
  "kernelspec": {
   "display_name": "Python 3",
   "language": "python",
   "name": "python3"
  },
  "language_info": {
   "codemirror_mode": {
    "name": "ipython",
    "version": 3
   },
   "file_extension": ".py",
   "mimetype": "text/x-python",
   "name": "python",
   "nbconvert_exporter": "python",
   "pygments_lexer": "ipython3",
   "version": "3.4.3"
  }
 },
 "nbformat": 4,
 "nbformat_minor": 0
}
