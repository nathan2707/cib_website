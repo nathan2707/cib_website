{
 "cells": [
  {
   "cell_type": "code",
   "execution_count": 19,
   "metadata": {
    "collapsed": false
   },
   "outputs": [],
   "source": [
    "import pandas.io.data as web\n",
    "import pandas as pd\n",
    "import datetime\n",
    "import Markowitz\n",
    "import numpy as np\n",
    "portfolio = ['YHOO','STK','GOOGL','AMZN','EBAY']"
   ]
  },
  {
   "cell_type": "code",
   "execution_count": 10,
   "metadata": {
    "collapsed": true
   },
   "outputs": [],
   "source": [
    "class Position:\n",
    "    def __init__(self,symbol,direction,in_price,start_date,out_returns,end_date,weight,exchange,asset_class):\n",
    "        #format for dates: \"YYYY-MM-dd\"\n",
    "        self.symbol = symbol\n",
    "        self.direction = direction\n",
    "        self.in_price = in_price\n",
    "        self.start_date = start_date\n",
    "        self.exchange = exchange\n",
    "        self.asset_class = asset_class\n",
    "        self.weight = weight\n",
    "        if end_date == False:\n",
    "            #position is still ongoing\n",
    "            self.closed = False\n",
    "        else:\n",
    "            self.closed = True\n",
    "            self.out_returns = out_returns\n",
    "            self.end_date = end_date\n",
    "        self.returns = pull_returns(self.symbol)\n",
    "            \n",
    "    def pull_returns(symbol):\n",
    "        request = web.DataReader(symbol,'yahoo',datetime.datetime(2010, 1, 1))['Close']\n",
    "        returns = request.pct_change()[1:len(request)-1]"
   ]
  },
  {
   "cell_type": "code",
   "execution_count": null,
   "metadata": {
    "collapsed": true
   },
   "outputs": [],
   "source": [
    "class Portfolio:\n",
    "    def __init__(self,assets):\n",
    "        self.positions = assets\n",
    "        self.symbols = [asset.symbol for asset in self.positions]\n",
    "        self.returns_grid = np.array([asset.returns for asset in self.positions])\n",
    "        self.weigths = np.array([asset.weight for asset in self.positions])\n",
    "        self.portfolio_returns = self.weights*self.returns_grid.transpose()\n",
    "        self.portfolio_covariance = np.cov(self.returns_grid)\n",
    "        self.portfolio_net_variance = np.dot(self.weights.T,np.dot(self.portfolio_covariance,self.weights))\n",
    "    def optimal_portfolio(self):\n",
    "        #looking back one year only. subject to change\n",
    "        start_index = len(self.returns)-253\n",
    "        end_index = len(self.returns)-1\n",
    "        weights, returns, risks = Markowitz.optimal_portfolio(self.returns_grid[start_index:end_index])\n",
    "        #the efficiency frontier is then just the curve passing through all given returns for the respective risks\n",
    "        return {'weights':weights,'returns':returns,'risk':'risk'}"
   ]
  },
  {
   "cell_type": "code",
   "execution_count": null,
   "metadata": {
    "collapsed": true
   },
   "outputs": [],
   "source": []
  }
 ],
 "metadata": {
  "kernelspec": {
   "display_name": "Python 3",
   "language": "python",
   "name": "python3"
  },
  "language_info": {
   "codemirror_mode": {
    "name": "ipython",
    "version": 3
   },
   "file_extension": ".py",
   "mimetype": "text/x-python",
   "name": "python",
   "nbconvert_exporter": "python",
   "pygments_lexer": "ipython3",
   "version": "3.4.3"
  }
 },
 "nbformat": 4,
 "nbformat_minor": 0
}
